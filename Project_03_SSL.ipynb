{
 "cells": [
  {
   "cell_type": "markdown",
   "metadata": {},
   "source": [
    "# ECE763 Project 03 (Final Course Project): Self-Supervised Learning"
   ]
  },
  {
   "cell_type": "markdown",
   "metadata": {},
   "source": [
    "### Objectives\n",
    "\n",
    "* Implemenet two self-supervised contrastive learning methods\n",
    "* Compare the representaitons via SSL with supervised baseline"
   ]
  },
  {
   "cell_type": "markdown",
   "metadata": {},
   "source": [
    "### How to submit your solutions\n",
    "\n",
    "* Add your NCSU IDs (all team members if had) as the postfix of the notebook filename.\n",
    "* `If you have a team, please clearly state who contribute to which part(s) of the project.`\n",
    "* Submit two versions of your notebook, one is fully executed with all outputs (`Project_03_ViT_twu19_results.ipynb`), and the other with all outputs cleared (`Project_03_ViT_twu19_empty.ipynb`). We will re-run the latter and expect the results will be exactly the same as those in the former. \n",
    "* No late days"
   ]
  },
  {
   "cell_type": "markdown",
   "metadata": {},
   "source": [
    "### Team Contributions (if applicable)\n",
    "\n",
    "* \n",
    "*\n",
    "*"
   ]
  },
  {
   "cell_type": "markdown",
   "metadata": {},
   "source": [
    "### Overview\n",
    "\n",
    "How to learn good representations from unlabeled data (e.g., imagery data)? First of all, this data still contains a lot of information from which we can learn: how are the images different from each other? What patterns are descriptive for certain images? Can we cluster the images? And so on. Methods for self-supervised learning try to learn as much as possible from the data alone, so it can quickly be finetuned for a specific classification task. \n",
    "\n",
    "The benefit of self-supervised learning is that a large dataset can often easily be obtained. For instance, if we want to train a vision model on semantic segmentation for autonomous driving, we can collect large amounts of data by simply installing a camera in a car, and driving through a city for an hour. In contrast, if we would want to do supervised learning, we would have to manually label all those images before training a model. This is extremely expensive, and would likely take a couple of months to manually label the same amount of data. Further, self-supervised learning can provide an alternative to transfer learning from models pretrained on ImageNet since we could pretrain a model on a specific dataset/situation, e.g. traffic scenarios for autonomous driving.\n",
    "\n",
    "Within the last several years, a lot of new approaches have been proposed for self-supervised learning using images, that have resulted in great improvements over supervised models when few labels are available.\n",
    "\n",
    "Check our lecture notes 18-19 and references therein.\n",
    "\n",
    "\n"
   ]
  },
  {
   "cell_type": "markdown",
   "metadata": {},
   "source": [
    "## Let's first start with importing our standard libraries below"
   ]
  },
  {
   "cell_type": "code",
   "execution_count": 3,
   "metadata": {},
   "outputs": [
    {
     "name": "stdout",
     "output_type": "stream",
     "text": [
      "The tensorboard extension is already loaded. To reload it, use:\n",
      "  %reload_ext tensorboard\n"
     ]
    }
   ],
   "source": [
    "\n",
    "\n",
    "## Standard libraries\n",
    "import os\n",
    "from copy import deepcopy\n",
    "import json\n",
    "import math\n",
    "import random\n",
    "import numpy as np \n",
    "import copy\n",
    "import time\n",
    "\n",
    "## Imports for plotting\n",
    "%matplotlib inline\n",
    "from mpl_toolkits.mplot3d import Axes3D\n",
    "import matplotlib.pyplot as plt\n",
    "from matplotlib import cm\n",
    "import seaborn as sns\n",
    "sns.set_theme()\n",
    "\n",
    "## Progress bar\n",
    "from tqdm.notebook import tqdm\n",
    "\n",
    "## typing\n",
    "from typing import (\n",
    "    Any,\n",
    "    Callable,\n",
    "    Dict,\n",
    "    List,\n",
    "    Optional,\n",
    "    Sequence,\n",
    "    Set,\n",
    "    Tuple,\n",
    "    Type,\n",
    "    Union,\n",
    ")\n",
    "\n",
    "try:\n",
    "    from typing import Literal\n",
    "except ImportError:\n",
    "    from typing_extensions import Literal\n",
    "\n",
    "## PyTorch\n",
    "import torch\n",
    "import torch.nn as nn\n",
    "import torch.nn.functional as F\n",
    "import torch.utils.data as data\n",
    "import torch.optim as optim\n",
    "\n",
    "## PyTorch Torchvision\n",
    "import torchvision\n",
    "from torchvision.datasets import CIFAR10,STL10\n",
    "from torchvision import transforms\n",
    "\n",
    "\n",
    "# PyTorch Lightning\n",
    "try:\n",
    "    import pytorch_lightning as pl\n",
    "except ModuleNotFoundError: \n",
    "    '''!pip install --quiet pytorch-lightning>=1.6\n",
    "    import pytorch_lightning as pl'\n",
    "    '''\n",
    "    import sys\n",
    "    !{sys.executable} -m pip install --quiet pytorch-lightning>=1.6\n",
    "    import pytorch_lightning as pl\n",
    "   \n",
    "from pytorch_lightning.callbacks import LearningRateMonitor, ModelCheckpoint\n",
    "\n",
    "# Import tensorboard\n",
    "%load_ext tensorboard\n"
   ]
  },
  {
   "cell_type": "markdown",
   "metadata": {},
   "source": [
    "## Identify the system"
   ]
  },
  {
   "cell_type": "code",
   "execution_count": 4,
   "metadata": {},
   "outputs": [
    {
     "name": "stdout",
     "output_type": "stream",
     "text": [
      "======================================== System Information ========================================\n",
      "System: Windows\n",
      "Node Name: DESKTOP-CIVGKUA\n",
      "Release: 10\n",
      "Version: 10.0.26100\n",
      "Machine: AMD64\n",
      "Processor: Intel64 Family 6 Model 142 Stepping 12, GenuineIntel\n",
      "======================================== Environment Information ========================================\n",
      "OrderedDict([('sys.platform', 'win32'),\n",
      "             ('Python',\n",
      "              '3.11.7 | packaged by Anaconda, Inc. | (main, Dec 15 2023, '\n",
      "              '18:05:47) [MSC v.1916 64 bit (AMD64)]'),\n",
      "             ('CUDA available', False),\n",
      "             ('MUSA available', False),\n",
      "             ('numpy_random_seed', 2147483648),\n",
      "             ('GCC', 'n/a'),\n",
      "             ('PyTorch', '2.1.2'),\n",
      "             ('PyTorch compiling details',\n",
      "              'PyTorch built with:\\n'\n",
      "              '  - C++ Version: 199711\\n'\n",
      "              '  - MSVC 192930151\\n'\n",
      "              '  - Intel(R) Math Kernel Library Version 2020.0.2 Product Build '\n",
      "              '20200624 for Intel(R) 64 architecture applications\\n'\n",
      "              '  - Intel(R) MKL-DNN v3.1.1 (Git Hash '\n",
      "              '64f6bcbcbab628e96f33a62c3e975f8535a7bde4)\\n'\n",
      "              '  - OpenMP 2019\\n'\n",
      "              '  - LAPACK is enabled (usually provided by MKL)\\n'\n",
      "              '  - CPU capability usage: AVX2\\n'\n",
      "              '  - Build settings: BLAS_INFO=mkl, BUILD_TYPE=Release, '\n",
      "              'CUDA_VERSION=11.8, CUDNN_VERSION=8.7.0, '\n",
      "              'CXX_COMPILER=C:/cb/pytorch_1000000000000/work/tmp_bin/sccache-cl.exe, '\n",
      "              'CXX_FLAGS=/DWIN32 /D_WINDOWS /GR /EHsc /bigobj /FS '\n",
      "              '-DUSE_PTHREADPOOL -DNDEBUG -DUSE_KINETO -DLIBKINETO_NOCUPTI '\n",
      "              '-DLIBKINETO_NOROCTRACER -DUSE_FBGEMM -DUSE_XNNPACK '\n",
      "              '-DSYMBOLICATE_MOBILE_DEBUG_HANDLE /utf-8 /wd4624 /wd4068 '\n",
      "              '/wd4067 /wd4267 /wd4661 /wd4717 /wd4244 /wd4804 /wd4273, '\n",
      "              'LAPACK_INFO=mkl, PERF_WITH_AVX=1, PERF_WITH_AVX2=1, '\n",
      "              'PERF_WITH_AVX512=1, TORCH_DISABLE_GPU_ASSERTS=OFF, '\n",
      "              'TORCH_VERSION=2.1.2, USE_CUDA=ON, USE_CUDNN=ON, '\n",
      "              'USE_EXCEPTION_PTR=1, USE_GFLAGS=OFF, USE_GLOG=OFF, USE_MKL=ON, '\n",
      "              'USE_MKLDNN=ON, USE_MPI=OFF, USE_NCCL=OFF, USE_NNPACK=OFF, '\n",
      "              'USE_OPENMP=ON, USE_ROCM=OFF, \\n'),\n",
      "             ('TorchVision', '0.16.2'),\n",
      "             ('OpenCV', '4.11.0'),\n",
      "             ('MMEngine', '0.10.3')])\n"
     ]
    }
   ],
   "source": [
    "import platform\n",
    "from mmengine.utils.dl_utils import collect_env\n",
    "from pprint import pprint\n",
    "\n",
    "print(\"=\" * 40, \"System Information\", \"=\" * 40)\n",
    "uname = platform.uname()\n",
    "print(f\"System: {uname.system}\")\n",
    "print(f\"Node Name: {uname.node}\")\n",
    "print(f\"Release: {uname.release}\")\n",
    "print(f\"Version: {uname.version}\")\n",
    "print(f\"Machine: {uname.machine}\")\n",
    "print(f\"Processor: {uname.processor}\")\n",
    "\n",
    "print(\"=\" * 40, \"Environment Information\", \"=\" * 40)\n",
    "my_env = collect_env()\n",
    "pprint(my_env)"
   ]
  },
  {
   "cell_type": "markdown",
   "metadata": {},
   "source": [
    "## General settings"
   ]
  },
  {
   "cell_type": "code",
   "execution_count": null,
   "metadata": {},
   "outputs": [],
   "source": [
    "\n",
    "\n",
    "# Path to the folder where the datasets are/should be downloaded (e.g. CIFAR10)\n",
    "DATASET_PATH = \"../data\"\n",
    "# Path to the folder where the pretrained models are saved\n",
    "CHECKPOINT_PATH = \"../checkpoints/ece763-proj_03\"\n",
    "\n",
    "# Setting the seed\n",
    "pl.seed_everything(42)\n",
    "# In this notebook, we use data loaders with heavier computational processing. It is recommended to use as many\n",
    "# workers as possible in a data loader, which corresponds to the number of CPU cores\n",
    "NUM_WORKERS = os.cpu_count() #0 #if I need to debug\n",
    "\n",
    "# Ensure that all operations are deterministic on GPU (if used) for reproducibility\n",
    "torch.backends.cudnn.determinstic = True\n",
    "torch.backends.cudnn.benchmark = False\n",
    "\n",
    "device = torch.device(\"cuda:0\") if torch.cuda.is_available() else torch.device(\"cpu\")\n",
    "print(\"Device:\", device)\n",
    "print(\"Number of workers:\", NUM_WORKERS)"
   ]
  },
  {
   "cell_type": "markdown",
   "metadata": {},
   "source": [
    "# Get started with implementing SimCLR\n",
    "\n",
    "It is a method of self-supervised `contrastive` learning. Contrastive learning is motivated by the question mentioned above: how are images different from each other? Specifically, contrastive learning methods train a model to cluster an image and its slightly augmented version in latent space, while the distance to other images should be maximized. A very recent and simple method for this is [SimCLR](https://arxiv.org/abs/2006.10029), which is visualized below (figure credit - [Ting Chen et al.](https://simclr.github.io/)).\n",
    "\n",
    "<center width=\"100%\"><img src=\"figures/simclr_contrastive_learning.png\" width=\"500px\"></center>\n",
    "\n",
    "The general setup is that we are given a dataset of images without any labels, and want to train a model on this data such that it can quickly adapt to any image recognition task afterward. During each training iteration, we sample a batch of images as usual. For each image, we create two versions by applying data augmentation techniques like cropping, Gaussian noise, blurring, etc. An example of such is shown on the left with the image of the dog. We will go into the details and effects of the chosen augmentation techniques later. On those images, we apply a CNN like ResNet and obtain as output a 1D feature vector on which we apply a small MLP. The output features of the two augmented images are then trained to be close to each other, while all other images in that batch should be as different as possible. This way, the model has to learn to recognize the content of the image that remains unchanged under the data augmentations, such as objects which we usually care about in supervised tasks.\n",
    "\n",
    "We will now implement this framework ourselves and discuss further details along the way. "
   ]
  },
  {
   "cell_type": "markdown",
   "metadata": {},
   "source": [
    "## Dataset"
   ]
  },
  {
   "cell_type": "markdown",
   "metadata": {},
   "source": [
    " We will use the [STL10 dataset](https://cs.stanford.edu/~acoates/stl10/), which, similarly to CIFAR10, contains images of 10 classes: `airplane, bird, car, cat, deer, dog, horse, monkey, ship, truck`. However, the images have a higher resolution, namely $96\\times 96$ pixels, and we are only provided with 500 labeled images per class. Additionally, we have a much larger set of $100,000$ unlabeled images which are similar to the training images but are sampled from a wider range of animals and vehicles. This makes the dataset ideal to showcase the benefits that self-supervised learning offers. \n",
    " \n",
    " However, to reduce the computationally complexity, we will downscale the images back to $32\\times 32$ pixels.  `Note: If you have sufficient GPU resources, you may try your implementation using` $96\\times 96$.\n",
    "\n",
    "Luckily, the STL10 dataset is provided through torchvision. Keep in mind, however, that since this dataset is relatively large and has a considerably higher resolution than CIFAR10, it requires more disk space (~3GB) and takes a bit of time to download. For our initial discussion of self-supervised learning and SimCLR, we will create two data loaders with our contrastive transformations above: the `unlabeled_data` will be used to train our model via contrastive learning, and `train_data_contrast` will be used as a validation set in contrastive learning."
   ]
  },
  {
   "cell_type": "markdown",
   "metadata": {},
   "source": [
    "### Data Augmentation for Contrastive Learning\n",
    "\n",
    "We will start our exploration of contrastive learning by discussing the effect of different data augmentation techniques, and how we can implement an efficient data loader for such. To allow efficient training, we need to prepare the data loading such that we sample two different, random augmentations for each image in the batch. The easiest way to do this is by creating a transformation that, when being called, applies a set of data augmentations to an image twice. This is implemented in the class `ContrastiveTransformations` below:"
   ]
  },
  {
   "cell_type": "code",
   "execution_count": 4,
   "metadata": {},
   "outputs": [],
   "source": [
    "class ContrastiveTransformations(object):\n",
    "    \n",
    "    def __init__(self, base_transforms, n_views=2):\n",
    "        self.base_transforms = base_transforms\n",
    "        self.n_views = n_views\n",
    "        \n",
    "    def __call__(self, x):\n",
    "        return [self.base_transforms(x) for i in range(self.n_views)]"
   ]
  },
  {
   "cell_type": "markdown",
   "metadata": {},
   "source": [
    "The contrastive learning framework can easily be extended to have more _positive_ examples by sampling more than two augmentations of the same image. However, the most efficient training is usually obtained by using only two.\n",
    "\n",
    "Next, we can look at the specific augmentations we want to apply. The choice of the data augmentation to use is the most crucial hyperparameter in SimCLR since it directly affects how the latent space is structured, and what patterns might be learned from the data. Let's first take a look at some of the most popular data augmentations (figure credit - [Ting Chen and Geoffrey Hinton](https://ai.googleblog.com/2020/04/advancing-self-supervised-and-semi.html)):\n",
    "\n",
    "<center width=\"100%\"><img src=\"figures/simclr_data_augmentations.png\" width=\"800px\" style=\"padding-top: 10px; padding-bottom: 10px\"></center>\n",
    "\n",
    "All of them can be used, but it turns out that two augmentations stand out in their importance: crop-and-resize, and color distortion. Interestingly, however, they only lead to strong performance if they have been used together as discussed by [Ting Chen et al.](https://arxiv.org/abs/2006.10029) in their SimCLR paper. When performing randomly cropping and resizing, we can distinguish between two situations: (a) cropped image A provides a local view of cropped image B, or (b) cropped images C and D show neighboring views of the same image (figure credit - [Ting Chen and Geoffrey Hinton](https://ai.googleblog.com/2020/04/advancing-self-supervised-and-semi.html)).\n",
    "\n",
    "<center width=\"100%\"><img src=\"figures/crop_views.svg\" width=\"400px\" style=\"padding-top: 20px; padding-bottom: 0px\"></center>\n",
    "\n",
    "While situation (a) requires the model to learn some sort of scale invariance to make crops A and B similar in latent space, situation (b) is more challenging since the model needs to recognize an object beyond its limited view. However, without color distortion, there is a loophole that the model can exploit, namely that different crops of the same image usually look very similar in color space. Consider the picture of the dog above. Simply from the color of the fur and the green color tone of the background, you can reason that two patches belong to the same image without actually recognizing the dog in the picture. In this case, the model might end up focusing only on the color histograms of the images, and ignore other more generalizable features. If, however, we distort the colors in the two patches randomly and independently of each other, the model cannot rely on this simple feature anymore. Hence, by combining random cropping and color distortions, the model can only match two patches by learning generalizable representations.\n",
    "\n"
   ]
  },
  {
   "cell_type": "code",
   "execution_count": 5,
   "metadata": {},
   "outputs": [],
   "source": [
    "# TODO data augmentaiton - [5 POINTS]\n",
    "# Overall, for our experiments, we apply a set of 5 transformations following the original SimCLR setup: \n",
    "# random horizontal flip, \n",
    "# crop-and-resize, \n",
    "# color distortion, \n",
    "# random grayscale, \n",
    "# and gaussian blur. \n",
    "# In comparison to the [original implementation](https://github.com/google-research/simclr), \n",
    "# we reduce the effect of the color jitter slightly (0.5 instead of 0.8 for brightness, contrast, and saturation, and 0.1 instead of 0.2 for hue). \n",
    "# In our experiments, this setting obtained better performance and was faster and more stable to train. \n",
    "# If, for instance, the brightness scale highly varies in a dataset, the original settings can be more beneficial \n",
    "# since the model can't rely on this information anymore to distinguish between images.\n",
    "#raise NotImplementedError\n",
    "\n",
    "# Define base transformations as specified above\n",
    "contrast_transforms = transforms.Compose([\n",
    "    transforms.RandomHorizontalFlip(),\n",
    "    transforms.RandomResizedCrop(size=32),\n",
    "    transforms.ColorJitter(brightness=0.5, contrast=0.5, saturation=0.5, hue=0.1),\n",
    "    transforms.RandomGrayscale(p=0.2),\n",
    "    transforms.GaussianBlur(kernel_size=3),\n",
    "    transforms.ToTensor()\n",
    "])\n",
    "\n",
    "# Create an instance of the class\n",
    "#contrast_transforms = ContrastiveTransformations(base_transforms, n_views=2)"
   ]
  },
  {
   "cell_type": "code",
   "execution_count": 6,
   "metadata": {},
   "outputs": [
    {
     "name": "stdout",
     "output_type": "stream",
     "text": [
      "Files already downloaded and verified\n",
      "Files already downloaded and verified\n"
     ]
    }
   ],
   "source": [
    "unlabeled_data = STL10(root=DATASET_PATH, split='unlabeled', download=True, \n",
    "                       transform=ContrastiveTransformations(contrast_transforms, n_views=2))\n",
    "train_data_contrast = STL10(root=DATASET_PATH, split='train', download=True, \n",
    "                            transform=ContrastiveTransformations(contrast_transforms, n_views=2))"
   ]
  },
  {
   "cell_type": "code",
   "execution_count": 7,
   "metadata": {},
   "outputs": [
    {
     "data": {
      "application/vnd.jupyter.widget-view+json": {
       "model_id": "221b260b52b0431e91b6720579cb6cb4",
       "version_major": 2,
       "version_minor": 0
      },
      "text/plain": [
       "  0%|          | 0/1000 [00:00<?, ?it/s]"
      ]
     },
     "metadata": {},
     "output_type": "display_data"
    },
    {
     "name": "stderr",
     "output_type": "stream",
     "text": [
      "C:\\Users\\henry\\anaconda3\\envs\\ece763\\Lib\\site-packages\\torchvision\\transforms\\functional.py:1603: UserWarning: The default value of the antialias parameter of all the resizing transforms (Resize(), RandomResizedCrop(), etc.) will change from None to True in v0.17, in order to be consistent across the PIL and Tensor backends. To suppress this warning, directly pass antialias=True (recommended, future default), antialias=None (current default, which means False for Tensors and True for PIL), or antialias=False (only works on Tensors - PIL will still use antialiasing). This also applies if you are using the inference transforms from the models weights: update the call to weights.transforms(antialias=True).\n",
      "  warnings.warn(\n"
     ]
    },
    {
     "data": {
      "application/vnd.jupyter.widget-view+json": {
       "model_id": "2211cda0379c4508a00dccf8db50b207",
       "version_major": 2,
       "version_minor": 0
      },
      "text/plain": [
       "  0%|          | 0/50 [00:00<?, ?it/s]"
      ]
     },
     "metadata": {},
     "output_type": "display_data"
    }
   ],
   "source": [
    "# Downscale images to 32x32 directly in arrays to save RAM and data loading computation\n",
    "def downscale_dataset(dataset):\n",
    "    data = dataset.data\n",
    "    num_imgs = data.shape[0]\n",
    "    new_data = np.zeros((num_imgs, data.shape[1], 32, 32), dtype=data.dtype)\n",
    "    for i in tqdm(range(0, num_imgs, 100)):\n",
    "        new_data[i:i+100] = transforms.functional.resize(torch.from_numpy(data[i:i+100]).float(), size=[32, 32]).to(torch.uint8).numpy()\n",
    "    dataset.data = new_data\n",
    "    \n",
    "downscale_dataset(unlabeled_data)\n",
    "downscale_dataset(train_data_contrast)\n"
   ]
  },
  {
   "cell_type": "markdown",
   "metadata": {},
   "source": [
    "Finally, before starting with our implementation of SimCLR, let's look at some example image pairs sampled with our augmentations:"
   ]
  },
  {
   "cell_type": "code",
   "execution_count": 8,
   "metadata": {},
   "outputs": [
    {
     "name": "stderr",
     "output_type": "stream",
     "text": [
      "Seed set to 42\n"
     ]
    },
    {
     "data": {
      "image/png": "[encoded data removed]",
      "text/plain": [
       "<Figure size 1400x700 with 1 Axes>"
      ]
     },
     "metadata": {},
     "output_type": "display_data"
    }
   ],
   "source": [
    "# Visualize some examples\n",
    "pl.seed_everything(42)\n",
    "NUM_IMAGES = 6\n",
    "\n",
    "imgs = torch.stack([img for idx in range(NUM_IMAGES) for img in unlabeled_data[idx][0]], dim=0)\n",
    "img_grid = torchvision.utils.make_grid(imgs, nrow=6, normalize=True, pad_value=0.9)\n",
    "img_grid = img_grid.permute(1, 2, 0)\n",
    "\n",
    "plt.figure(figsize=(14,7))\n",
    "plt.title('Augmented image examples of the STL10 dataset', fontsize=20)\n",
    "plt.imshow(img_grid)\n",
    "plt.axis('off')\n",
    "plt.show()\n",
    "plt.close()"
   ]
  },
  {
   "cell_type": "markdown",
   "metadata": {},
   "source": [
    "We see the wide variety of our data augmentation, including randomly cropping, grayscaling, gaussian blur, and color distortion. Thus, it remains a challenging task for the model to match two, independently augmented patches of the same image."
   ]
  },
  {
   "cell_type": "markdown",
   "metadata": {},
   "source": [
    "## Part 1: SimCLR implementation\n",
    "\n",
    "Using the data loader pipeline above, we can now implement SimCLR. At each iteration, we get for every image $x$ two differently augmented versions, which we refer to as $\\tilde{x}_i$ and $\\tilde{x}_j$. Both of these images are encoded into a one-dimensional feature vector, between which we want to maximize similarity which minimizes it to all other images in the batch. The encoder network is split into two parts: a base encoder network $f(\\cdot)$, and a projection head $g(\\cdot)$. The base network is usually a deep CNN as we have seen before, and is responsible for extracting a representation vector from the augmented data examples. In our experiments, we will use a very simple `BaseNetwork` architecture as $f(\\cdot)$, and refer to the output as $f(\\tilde{x}_i)=h_i$. The projection head $g(\\cdot)$ maps the representation $h$ into a space where we apply the contrastive loss, i.e., compare similarities between vectors. It is often chosen to be a small MLP with non-linearities, and for simplicity, we follow the original SimCLR paper setup by defining it as a two-layer MLP with ReLU activation in the hidden layer. Note that in the follow-up paper, [SimCLRv2](https://arxiv.org/abs/2006.10029), the authors mention that larger/wider MLPs can boost the performance considerably. This is why we apply an MLP with four times larger hidden dimensions, but deeper MLPs showed to overfit on the given dataset. The general setup is visualized below (figure credit - [Ting Chen et al.](https://arxiv.org/abs/2006.10029)):\n",
    "\n",
    "<center width=\"100%\"><img src=\"figures/simclr_network_setup.svg\" width=\"350px\"></center>\n",
    "\n",
    "After finishing the training with contrastive learning, we will remove the projection head $g(\\cdot)$, and use $f(\\cdot)$ as a pretrained feature extractor. The representations $z$ that come out of the projection head $g(\\cdot)$ have been shown to perform worse than those of the base network $f(\\cdot)$ when finetuning the network for a new task. This is likely because the representations $z$ are trained to become invariant to many features like the color that can be important for downstream tasks. Thus, $g(\\cdot)$ is only needed for the contrastive learning stage.\n",
    "\n",
    "Let's first start by implementing a Base Network which will represent function $f(\\cdot)$. Usually, you would use very large, powerful networks like a deep ResNet, but these are very expensive to train. To reduce the computational cost and make it possible to train the models with limited computong resources, we provide a very simple CNN here:"
   ]
  },
  {
   "cell_type": "code",
   "execution_count": 9,
   "metadata": {},
   "outputs": [],
   "source": [
    "class BaseNetwork(nn.Module):\n",
    "\n",
    "    def __init__(self, num_input_channels, c_hid, output_dim):\n",
    "        \"\"\"\n",
    "        Inputs:\n",
    "            - num_input_channels : Number of input channels of the image. For CIFAR, this parameter is 3\n",
    "            - c_hid : Number of channels we use in the first convolutional layers. Deeper layers might use a duplicate of it.\n",
    "            - output_dim : Dimensionality of the final latent representation\n",
    "        \"\"\"\n",
    "        super().__init__()\n",
    "        self.net = nn.Sequential(\n",
    "            nn.Conv2d(num_input_channels, c_hid, kernel_size=3, padding=1, stride=2), # 32x32 => 16x16\n",
    "            nn.BatchNorm2d(c_hid),\n",
    "            nn.SiLU(),\n",
    "            nn.Conv2d(c_hid, c_hid, kernel_size=3, padding=1),\n",
    "            nn.BatchNorm2d(c_hid),\n",
    "            nn.SiLU(),\n",
    "            nn.Conv2d(c_hid, 2*c_hid, kernel_size=3, padding=1, stride=2), # 16x16 => 8x8\n",
    "            nn.BatchNorm2d(2*c_hid),\n",
    "            nn.SiLU(),\n",
    "            nn.Conv2d(2*c_hid, 2*c_hid, kernel_size=3, padding=1),\n",
    "            nn.BatchNorm2d(2*c_hid),\n",
    "            nn.SiLU(),\n",
    "            nn.Conv2d(2*c_hid, 2*c_hid, kernel_size=3, padding=1, stride=2), # 8x8 => 4x4\n",
    "            nn.BatchNorm2d(2*c_hid),\n",
    "            nn.SiLU(),\n",
    "            nn.Flatten(), # Image grid to single feature vector\n",
    "            nn.Linear(2*16*c_hid, output_dim)\n",
    "        )\n",
    "\n",
    "    def forward(self, x):\n",
    "        return self.net(x)"
   ]
  },
  {
   "cell_type": "markdown",
   "metadata": {},
   "source": [
    "Now that the architecture is described, let's take a closer look at how we train the model. As mentioned before, we want to maximize the similarity between the representations of the two augmented versions of the same image, i.e., $z_i$ and $z_j$ in the figure above, while minimizing it to all other examples in the batch. SimCLR thereby applies the InfoNCE loss, originally proposed by [Aaron van den Oord et al.](https://arxiv.org/abs/1807.03748) for contrastive learning. In short, the InfoNCE loss compares the similarity of $z_i$ and $z_j$ to the similarity of $z_i$ to any other representation in the batch by performing a softmax over the similarity values. The loss can be formally written as:\n",
    "\n",
    "$$\n",
    "\\ell_{i,j}=-\\log \\frac{\\exp(\\text{sim}(z_i,z_j)/\\tau)}{\\sum_{k=1}^{2N}\\mathbb{1}_{[k\\neq i]}\\exp(\\text{sim}(z_i,z_k)/\\tau)}=-\\text{sim}(z_i,z_j)/\\tau+\\log\\left[\\sum_{k=1}^{2N}\\mathbb{1}_{[k\\neq i]}\\exp(\\text{sim}(z_i,z_k)/\\tau)\\right]\n",
    "$$\n",
    "\n",
    "The function $\\text{sim}$ is a similarity metric, and the hyperparameter $\\tau$ is called temperature determining how peaked the distribution is. Since many similarity metrics are bounded, the temperature parameter allows us to balance the influence of many dissimilar image patches versus one similar patch. The similarity metric that is used in SimCLR is cosine similarity, as defined below:\n",
    "\n",
    "$$\n",
    "\\text{sim}(z_i,z_j) = \\frac{z_i^\\top \\cdot z_j}{||z_i||\\cdot||z_j||}\n",
    "$$\n",
    "\n",
    "The maximum cosine similarity possible is $1$, while the minimum is $-1$. In general, we will see that the features of two different images will converge to a cosine similarity around zero since the minimum, $-1$, would require $z_i$ and $z_j$ to be in the exact opposite direction in all feature dimensions, which does not allow for great flexibility.\n",
    "\n",
    "Finally, now that we have discussed all details, let's implement SimCLR below as a PyTorch Lightning module:"
   ]
  },
  {
   "cell_type": "code",
   "execution_count": 10,
   "metadata": {},
   "outputs": [],
   "source": [
    "class SimCLR(pl.LightningModule):\n",
    "\n",
    "    def __init__(self, hidden_dim, lr, temperature, weight_decay, max_epochs=500):\n",
    "        super().__init__()\n",
    "        self.save_hyperparameters()\n",
    "        assert self.hparams.temperature > 0.0, 'The temperature must be a positive float!'\n",
    "        # TODO: Setup the Base Network [5 POINTS]\n",
    "        #raise NotImplementedError\n",
    "        base_c_hid = int(64)\n",
    "        base_output_dim = int(64)\n",
    "        g_input_dim = int(base_output_dim)\n",
    "        g_output_dim = int(base_output_dim/2)\n",
    "        #print(\"g input dim is\", g_input_dim)\n",
    "        #print(\"hidden dim is\", hidden_dim)\n",
    "        #print(\"g output dim is\", g_output_dim)\n",
    "\n",
    "        # Base model f(.)\n",
    "        self.f = BaseNetwork(num_input_channels=3, c_hid= base_c_hid, output_dim = base_output_dim)\n",
    "        #f.init(num_input_channels=3, c_hid= base_c_hid, output_dim = base_output_dim)\n",
    "\n",
    "        # The MLP for g(.) consists of Linear->ReLU->Linear\n",
    "        self.g = nn.Sequential(\n",
    "            nn.Linear(g_input_dim, hidden_dim),  # First Linear layer\n",
    "            nn.ReLU(),                           # ReLU activation\n",
    "            nn.Linear(hidden_dim, g_output_dim)  # Second Linear layer\n",
    "        )\n",
    "\n",
    "    def configure_optimizers(self):\n",
    "        optimizer = optim.AdamW(self.parameters(), \n",
    "                                lr=self.hparams.lr, \n",
    "                                weight_decay=self.hparams.weight_decay)\n",
    "        lr_scheduler = optim.lr_scheduler.CosineAnnealingLR(optimizer,\n",
    "                                                            T_max=self.hparams.max_epochs,\n",
    "                                                            eta_min=self.hparams.lr/50)\n",
    "        return [optimizer], [lr_scheduler]\n",
    "\n",
    "    def info_nce_loss(self, batch, mode='train'):\n",
    "        #print('reaches info_nce_loss')\n",
    "        imgs, _ = batch  # we do not need the labels here\n",
    "        # imgs is a list of length 2, where imgs[0][i] and imgs[1][i] are the positive pairs\n",
    "\n",
    "        # TODO: Calculate the contrastive loss of SimCLR. Try to be as efficient as possible [20 POINTS]\n",
    "        # Hint: if you add imgs into a batch where over dimension 0, you have [imgs[0],imgs[1]],\n",
    "        # the positive pair for an image at position i is always at (i + batch_size) % (2 * batch_size)\n",
    "        # Can you create a mask to find the positive element for each batch element?\n",
    "        #raise NotImplementedError\n",
    "\n",
    "        #debugging = True\n",
    "        #print(\"imgs.shape\", imgs.shape)\n",
    "        #print(\"imgs[0].shape\", imgs[0].shape)\n",
    "        #print(\"imgs[0].shape[0]\", imgs[0].shape[0])\n",
    "        #assert debugging == False, 'Did not pass this point because I am debugging'\n",
    "        batch_size = imgs[0].shape[0]\n",
    "\n",
    "        #step 1 Concatenate both views (augmentations) into a single batch\n",
    "        imgs = torch.cat(imgs, dim=0) #Shape: (2 * batch_size, C, H, W)\n",
    "\n",
    "        #Step 2: Forward pass through to the encoder to obtain feature embeddings\n",
    "        features = self.f(imgs) #Shape: (2*batch_size, feature_dim)\n",
    "        features = self.g(features)\n",
    "        features = F.normalize(features, dim=1) #normalize features\n",
    "\n",
    "        #Step 3: Compute cosine similarity\n",
    "        similarity_matrix = torch.mm(features, features.T) # (2*batch_size, 2*batch_size)\n",
    "\n",
    "        #Step 4: Create Labels for positive pairs\n",
    "        labels = torch.arange(batch_size, device=features.device)\n",
    "        labels = torch.cat([labels, labels], dim=0)\n",
    "\n",
    "        #Step 5: Mask out self-similarities\n",
    "        mask = torch.eye(2 * batch_size, dtype=torch.bool, device=features.device)\n",
    "        similarity_matrix.masked_fill_(mask, float('-inf')) # Ignore diagnol\n",
    "\n",
    "        #Step 6: Compute loss using cross-entropy\n",
    "        positives = similarity_matrix[range(2 * batch_size), labels + batch_size]\n",
    "        logits = similarity_matrix / self.hparams.temperature #Apply temperature scaling\n",
    "        loss = F.cross_entropy(logits, labels)\n",
    "\n",
    "        #Step 7: Compute ranking metrics\n",
    "        sim_argsort = logits.argsort(dim=1,descending=True)\n",
    "        # Log the loss and the top-1 and top-5 accuracy as how often the most similar image was the positive\n",
    "        self.log(mode + \"_acc_top1\", (sim_argsort == 0).float().mean())\n",
    "        self.log(mode + \"_acc_top5\", (sim_argsort < 5).float().mean())\n",
    "        self.log(mode + \"_acc_mean_pos\", 1 + sim_argsort.float().mean())\n",
    "\n",
    "        return loss\n",
    "\n",
    "    def training_step(self, batch, batch_idx):\n",
    "        #print('reaches training_step')\n",
    "        return self.info_nce_loss(batch, mode='train')\n",
    "\n",
    "    def validation_step(self, batch, batch_idx):\n",
    "        #print('reaches validation_step')\n",
    "        self.info_nce_loss(batch, mode='val')"
   ]
  },
  {
   "cell_type": "markdown",
   "metadata": {},
   "source": [
    "### Training\n",
    "\n",
    "Now that we have implemented SimCLR and the data loading pipeline, we are ready to train the model. We will use the same training function setup as usual. For saving the best model checkpoint, we track the metric `val_acc_top5`, which describes how often the correct image patch is within the top-5 most similar examples in the batch. This is usually less noisy than the top-1 metric, making it a better metric to choose the best model from."
   ]
  },
  {
   "cell_type": "code",
   "execution_count": 11,
   "metadata": {},
   "outputs": [],
   "source": [
    "#NUM_WORKERS = 0\n",
    "\n",
    "def train_simclr(batch_size, max_epochs=500, **kwargs):\n",
    "    trainer = pl.Trainer(default_root_dir=os.path.join(CHECKPOINT_PATH, 'SimCLR'),\n",
    "                         accelerator=\"gpu\" if str(device).startswith(\"cuda\") else \"cpu\",\n",
    "                         devices=1,\n",
    "                         max_epochs=max_epochs,\n",
    "                         callbacks=[ModelCheckpoint(save_weights_only=True, mode='max', monitor='val_acc_top5'),\n",
    "                                    LearningRateMonitor('epoch')],\n",
    "                         check_val_every_n_epoch=5)\n",
    "    trainer.logger._default_hp_metric = None # Optional logging argument that we don't need\n",
    "\n",
    "    # Check whether pretrained model exists. If yes, load it and skip training\n",
    "    pretrained_filename = os.path.join(CHECKPOINT_PATH, 'SimCLR.ckpt')\n",
    "    if os.path.isfile(pretrained_filename):\n",
    "        print(f'Found pretrained model at {pretrained_filename}, loading...')\n",
    "        model = SimCLR.load_from_checkpoint(pretrained_filename) # Automatically loads the model with the saved hyperparameters\n",
    "    else:\n",
    "        print('pretrained model not found')\n",
    "        train_loader = data.DataLoader(unlabeled_data, batch_size=batch_size, shuffle=True, \n",
    "                                       drop_last=True, pin_memory=True, num_workers=NUM_WORKERS)\n",
    "        #print('got past train_loader and entering val_loader')\n",
    "        val_loader = data.DataLoader(train_data_contrast, batch_size=batch_size, shuffle=False, \n",
    "                                     drop_last=False, pin_memory=True, num_workers=NUM_WORKERS,persistent_workers=True) #persistent_workers=True\n",
    "        pl.seed_everything(42) # To be reproducable\n",
    "        \n",
    "        print(val_loader)  # Should not be None\n",
    "        # Debugging validation data\n",
    "        val_iter = iter(val_loader)\n",
    "        first_batch = next(val_iter)  # Get the first batch\n",
    "        #print(\"First validation batch:\", first_batch)\n",
    "        #print(\"Validation batch shape:\", first_batch[0].shape if isinstance(first_batch, (list, tuple)) else first_batch.shape)\n",
    "        #print(\"Validation dataset length:\", len(val_loader.dataset)) #should be >0\n",
    "\n",
    "        model = SimCLR(max_epochs=max_epochs, **kwargs)\n",
    "        #print('reaches trainer.fit')\n",
    "        trainer.fit(model, train_loader, val_loader)\n",
    "        #print('finishes trainer.ft')\n",
    "        model = SimCLR.load_from_checkpoint(trainer.checkpoint_callback.best_model_path) # Load best checkpoint after training\n",
    "\n",
    "    return model"
   ]
  },
  {
   "cell_type": "markdown",
   "metadata": {},
   "source": [
    "A common observation in contrastive learning is that the larger the batch size, the better the models perform. A larger batch size allows us to compare each image to more negative examples, leading to overall smoother loss gradients, but a batch size of 256 is sufficient here. Again, for a first run, you can use 10 epochs, but try to increase the number of epochs for a final run."
   ]
  },
  {
   "cell_type": "code",
   "execution_count": null,
   "metadata": {},
   "outputs": [
    {
     "name": "stderr",
     "output_type": "stream",
     "text": [
      "GPU available: False, used: False\n",
      "TPU available: False, using: 0 TPU cores\n",
      "IPU available: False, using: 0 IPUs\n",
      "HPU available: False, using: 0 HPUs\n",
      "Seed set to 42\n"
     ]
    },
    {
     "name": "stdout",
     "output_type": "stream",
     "text": [
      "pretrained model not found\n",
      "<torch.utils.data.dataloader.DataLoader object at 0x000002098016A710>\n"
     ]
    }
   ],
   "source": [
    "simclr_model = train_simclr(batch_size=256, \n",
    "                            hidden_dim=128, \n",
    "                            lr=5e-4, \n",
    "                            temperature=0.07, \n",
    "                            weight_decay=1e-4, \n",
    "                            max_epochs=10)"
   ]
  },
  {
   "cell_type": "markdown",
   "metadata": {},
   "source": [
    "To get an intuition of how training with contrastive learning behaves, we can take a look at the TensorBoard below:"
   ]
  },
  {
   "cell_type": "code",
   "execution_count": null,
   "metadata": {},
   "outputs": [],
   "source": [
    "%tensorboard --logdir ../checkpoints/ece763-proj_03/SimCLR/"
   ]
  },
  {
   "cell_type": "markdown",
   "metadata": {},
   "source": [
    "In your report, show the top-1 and top-5 accuracy validation curves. Discuss the overall performance and the training speed. Is the model already converged? What does the final performance of the model imply about the learned feature space?"
   ]
  },
  {
   "cell_type": "markdown",
   "metadata": {},
   "source": [
    "## Part 2: Logistic Regression\n",
    "\n",
    "After we have trained our model via contrastive learning, we can deploy it on downstream tasks and see how well it performs with little data. A common setup, which also verifies whether the model has learned generalized representations, is to perform Logistic Regression on the features. In other words, we learn a single, linear layer that maps the representations to a class prediction. Since the base network $f(\\cdot)$ is not changed during the training process, the model can only perform well if the representations of $h$ describe all features that might be necessary for the task. Further, we do not have to worry too much about overfitting since we have very few parameters that are trained. Hence, we might expect that the model can perform well even with very little data.\n",
    "\n",
    "First, let's implement a simple Logistic Regression setup for which we assume that the images already have been encoded in their feature vectors. If very little data is available, it might be beneficial to dynamically encode the images during training so that we can also apply data augmentations. However, the way we implement it here is much more efficient and can be trained within a few seconds. Further, using data augmentations did not show any significant gain in this simple setup."
   ]
  },
  {
   "cell_type": "code",
   "execution_count": null,
   "metadata": {},
   "outputs": [],
   "source": [
    "class LogisticRegression(pl.LightningModule):\n",
    "\n",
    "    def __init__(self, feature_dim, num_classes, lr, weight_decay, max_epochs=100):\n",
    "        super().__init__()\n",
    "        self.save_hyperparameters()\n",
    "        # Mapping from representation h to classes\n",
    "        # Initialize logistic regression model        \n",
    "        self.model = nn.Linear(feature_dim, num_classes)\n",
    "\n",
    "    def configure_optimizers(self):\n",
    "        optimizer = optim.AdamW(self.parameters(), \n",
    "                                lr=self.hparams.lr, \n",
    "                                weight_decay=self.hparams.weight_decay)\n",
    "        lr_scheduler = optim.lr_scheduler.MultiStepLR(optimizer, \n",
    "                                                      milestones=[int(self.hparams.max_epochs*0.6), \n",
    "                                                                  int(self.hparams.max_epochs*0.8)], \n",
    "                                                      gamma=0.1)\n",
    "        return [optimizer], [lr_scheduler]\n",
    "\n",
    "    def _calculate_loss(self, batch, mode='train'):\n",
    "        # TODO: Calculate classification loss for logistic regression model [5 POINTS]\n",
    "        raise NotImplementedError\n",
    "        \n",
    "\n",
    "        self.log(mode + \"_loss\", loss)\n",
    "        self.log(mode + \"_acc\", acc)\n",
    "        return loss\n",
    "\n",
    "    def training_step(self, batch, batch_idx):\n",
    "        return self._calculate_loss(batch, mode='train')\n",
    "\n",
    "    def validation_step(self, batch, batch_idx):\n",
    "        self._calculate_loss(batch, mode='val')\n",
    "\n",
    "    def test_step(self, batch, batch_idx):\n",
    "        self._calculate_loss(batch, mode='test')"
   ]
  },
  {
   "cell_type": "markdown",
   "metadata": {},
   "source": [
    "The data we use is the training and test set of STL10. The training contains 500 images per class, while the test set has 800 images per class."
   ]
  },
  {
   "cell_type": "code",
   "execution_count": null,
   "metadata": {},
   "outputs": [],
   "source": [
    "img_transforms = transforms.Compose([transforms.ToTensor(),\n",
    "                                     transforms.Normalize((0.5,), (0.5,))])\n",
    "\n",
    "train_img_data = STL10(root=DATASET_PATH, split='train', download=True,\n",
    "                       transform=img_transforms)\n",
    "test_img_data = STL10(root=DATASET_PATH, split='test', download=True,\n",
    "                      transform=img_transforms)\n",
    "downscale_dataset(train_img_data)\n",
    "downscale_dataset(test_img_data)\n",
    "\n",
    "print(\"Number of training examples:\", len(train_img_data))\n",
    "print(\"Number of test examples:\", len(test_img_data))"
   ]
  },
  {
   "cell_type": "markdown",
   "metadata": {},
   "source": [
    "Next, we implement a small function to encode all images in our datasets. The output representations are then used as inputs to the Logistic Regression model."
   ]
  },
  {
   "cell_type": "code",
   "execution_count": null,
   "metadata": {},
   "outputs": [],
   "source": [
    "@torch.no_grad()\n",
    "def prepare_data_features(model, dataset):\n",
    "    # TODO: Obtain the feature representation for all images in the dataset [5 POINTS]\n",
    "    raise NotImplementedError\n",
    "    network = deepcopy(model.encoder)\n",
    "    network.eval()\n",
    "    network.to(device)\n",
    "\n",
    "    # Encode all images\n",
    "    \n",
    "\n",
    "    # Sort images by labels\n",
    "    labels, idxs = labels.sort()\n",
    "    feats = feats[idxs]\n",
    "\n",
    "    # Return a new dataset with the image features and labels\n",
    "    return data.TensorDataset(feats, labels)"
   ]
  },
  {
   "cell_type": "markdown",
   "metadata": {},
   "source": [
    "Let's apply the function to both training and test set below."
   ]
  },
  {
   "cell_type": "code",
   "execution_count": null,
   "metadata": {},
   "outputs": [],
   "source": [
    "train_feats_simclr = prepare_data_features(simclr_model, train_img_data)\n",
    "test_feats_simclr = prepare_data_features(simclr_model, test_img_data)"
   ]
  },
  {
   "cell_type": "markdown",
   "metadata": {},
   "source": [
    "Finally, we can write a training function as usual. We evaluate the model on the test set every 10 epochs to allow early stopping, but the low frequency of the validation ensures that we do not overfit too much on the test set."
   ]
  },
  {
   "cell_type": "code",
   "execution_count": null,
   "metadata": {},
   "outputs": [],
   "source": [
    "def train_logreg(batch_size, train_feats_data, test_feats_data, model_suffix, max_epochs=100, **kwargs):\n",
    "    trainer = pl.Trainer(\n",
    "        default_root_dir=os.path.join(CHECKPOINT_PATH, \"LogisticRegression\"),\n",
    "        accelerator=\"gpu\" if str(device).startswith(\"cuda\") else \"cpu\",\n",
    "        devices=1,\n",
    "        max_epochs=max_epochs,\n",
    "        callbacks=[\n",
    "            ModelCheckpoint(save_weights_only=True, mode=\"max\", monitor=\"val_acc\"),\n",
    "            LearningRateMonitor(\"epoch\"),\n",
    "        ],\n",
    "        enable_progress_bar=False,\n",
    "        check_val_every_n_epoch=10,\n",
    "    )\n",
    "    trainer.logger._default_hp_metric = None\n",
    "\n",
    "    # Data loaders\n",
    "    train_loader = data.DataLoader(train_feats_data, batch_size=batch_size, shuffle=True, \n",
    "                                   drop_last=False, pin_memory=True, num_workers=0)\n",
    "    test_loader = data.DataLoader(test_feats_data, batch_size=batch_size, shuffle=False, \n",
    "                                  drop_last=False, pin_memory=True, num_workers=0)\n",
    "\n",
    "    # Check whether pretrained model exists. If yes, load it and skip training\n",
    "    pretrained_filename = os.path.join(CHECKPOINT_PATH, f\"LogisticRegression_{model_suffix}.ckpt\")\n",
    "    if os.path.isfile(pretrained_filename):\n",
    "        print(f\"Found pretrained model at {pretrained_filename}, loading...\")\n",
    "        model = LogisticRegression.load_from_checkpoint(pretrained_filename)\n",
    "    else:\n",
    "        pl.seed_everything(42)  # To be reproducable\n",
    "        model = LogisticRegression(**kwargs)\n",
    "        trainer.fit(model, train_loader, test_loader)\n",
    "        model = LogisticRegression.load_from_checkpoint(trainer.checkpoint_callback.best_model_path)\n",
    "\n",
    "    # Test best model on train and validation set\n",
    "    train_result = trainer.test(model, train_loader, verbose=False)\n",
    "    test_result = trainer.test(model, test_loader, verbose=False)\n",
    "    result = {\"train\": train_result[0][\"test_acc\"], \"test\": test_result[0][\"test_acc\"]}\n",
    "\n",
    "    return model, result"
   ]
  },
  {
   "cell_type": "markdown",
   "metadata": {},
   "source": [
    "Despite the training dataset of STL10 already only having 500 labeled images per class, we will perform experiments with even smaller datasets. Specifically, we train a Logistic Regression model for datasets with only 10, 20, 50, 100, 200, and all 500 examples per class. This gives us an intuition on how well the representations learned by contrastive learning can be transfered to a image recognition task like this classification. First, let's define a function to create the intended sub-datasets from the full training set:"
   ]
  },
  {
   "cell_type": "code",
   "execution_count": null,
   "metadata": {},
   "outputs": [],
   "source": [
    "def get_smaller_dataset(original_dataset, num_imgs_per_label):\n",
    "    # TODO: Return dataset with the first N images per label [5 POINTS]\n",
    "    raise NotImplementedError\n",
    "    \n",
    "    return new_dataset"
   ]
  },
  {
   "cell_type": "markdown",
   "metadata": {},
   "source": [
    "Next, let's run all models. Despite us training 6 models, this cell could be run within a minute or two without the pretrained models. "
   ]
  },
  {
   "cell_type": "code",
   "execution_count": null,
   "metadata": {
    "scrolled": true
   },
   "outputs": [],
   "source": [
    "# TODO: Run the logistic regression on datasets of 10, 20, 50, 100, 200, and 500 labeled examples [5 POINTS]\n",
    "raise NotImplementedError\n",
    "results = {}\n",
    "for num_imgs_per_label in [10, 20, 50, 100, 200, 500]:\n",
    "    \n",
    "    results[num_imgs_per_label] = small_set_results"
   ]
  },
  {
   "cell_type": "markdown",
   "metadata": {},
   "source": [
    "Finally, let's plot the results."
   ]
  },
  {
   "cell_type": "code",
   "execution_count": null,
   "metadata": {},
   "outputs": [],
   "source": [
    "# Plot the results\n",
    "\n",
    "dataset_sizes = sorted([k for k in results])\n",
    "test_scores = [results[k][\"test\"] for k in dataset_sizes]\n",
    "\n",
    "fig = plt.figure(figsize=(6, 4))\n",
    "plt.plot(\n",
    "    dataset_sizes,\n",
    "    test_scores,\n",
    "    \"--\",\n",
    "    color=\"#000\",\n",
    "    marker=\"*\",\n",
    "    markeredgecolor=\"#000\",\n",
    "    markerfacecolor=\"y\",\n",
    "    markersize=16,\n",
    ")\n",
    "plt.xscale(\"log\")\n",
    "plt.xticks(dataset_sizes, labels=dataset_sizes)\n",
    "plt.title(\"STL10 classification over dataset size\", fontsize=14)\n",
    "plt.xlabel(\"Number of images per class\")\n",
    "plt.ylabel(\"Test accuracy\")\n",
    "plt.minorticks_off()\n",
    "plt.show()\n",
    "\n",
    "for k, score in zip(dataset_sizes, test_scores):\n",
    "    print(f\"Test accuracy for {k:3d} images per label: {100*score:4.2f}%\")\n",
    "    \n",
    "    \n",
    "# We should observe performance similar \n",
    "# Test accuracy for  10 images per label: 40.09%\n",
    "# Test accuracy for  20 images per label: 43.75%\n",
    "# Test accuracy for  50 images per label: 48.66%\n",
    "# Test accuracy for 100 images per label: 52.79%\n",
    "# Test accuracy for 200 images per label: 55.26%\n",
    "# Test accuracy for 500 images per label: 58.28%"
   ]
  },
  {
   "cell_type": "markdown",
   "metadata": {},
   "source": [
    "TODO: [5 POINTS] Discuss the overall performance as well as the trend you see in the plot. Where do you see the biggest jump in performance? Is the performance already saturating?"
   ]
  },
  {
   "cell_type": "markdown",
   "metadata": {},
   "source": []
  },
  {
   "cell_type": "markdown",
   "metadata": {},
   "source": [
    "## Part 3: Baseline\n",
    "\n",
    "As a baseline to our results above, we will train the BaseNetwork with random initialization on the labeled training set of STL10. The results will give us an indication of the advantages that contrastive learning on unlabeled data has compared to using only supervised training. First, let's implement it below."
   ]
  },
  {
   "cell_type": "code",
   "execution_count": null,
   "metadata": {},
   "outputs": [],
   "source": [
    "class Baseline(pl.LightningModule):\n",
    "\n",
    "    def __init__(self, num_classes, lr, weight_decay, max_epochs=100):\n",
    "        super().__init__()\n",
    "        self.save_hyperparameters()\n",
    "        # Initialize a base network\n",
    "        self.model = BaseNetwork(num_input_channels=3, c_hid=48, output_dim=num_classes) \n",
    "\n",
    "    def configure_optimizers(self):\n",
    "        optimizer = optim.AdamW(self.parameters(), \n",
    "                                lr=self.hparams.lr, \n",
    "                                weight_decay=self.hparams.weight_decay)\n",
    "        lr_scheduler = optim.lr_scheduler.MultiStepLR(optimizer, \n",
    "                                                      milestones=[int(self.hparams.max_epochs*0.7), \n",
    "                                                                  int(self.hparams.max_epochs*0.9)], \n",
    "                                                      gamma=0.1)\n",
    "        return [optimizer], [lr_scheduler]\n",
    "\n",
    "    def _calculate_loss(self, batch, mode='train'):\n",
    "        # TODO: Calculate classification loss and accuracy [5 points]\n",
    "        raise NotImplementedError\n",
    "       \n",
    "\n",
    "        self.log(mode + \"_loss\", loss)\n",
    "        self.log(mode + \"_acc\", acc)\n",
    "        return loss\n",
    "\n",
    "    def training_step(self, batch, batch_idx):\n",
    "        return self._calculate_loss(batch, mode='train')\n",
    "\n",
    "    def validation_step(self, batch, batch_idx):\n",
    "        self._calculate_loss(batch, mode='val')\n",
    "\n",
    "    def test_step(self, batch, batch_idx):\n",
    "        self._calculate_loss(batch, mode='test')"
   ]
  },
  {
   "cell_type": "markdown",
   "metadata": {},
   "source": [
    "It is clear that the ResNet easily overfits on the training data since its parameter count is more than 1000 times larger than the dataset size. To make the comparison to the contrastive learning models fair, we apply data augmentations similar to the ones we used before: horizontal flip, crop-and-resize, grayscale, and gaussian blur. Color distortions as before are not used because the color distribution of an image showed to be an important feature for the classification. Hence, we observed no noticeable performance gains when adding color distortions to the set of augmentations. Similarly, we restrict the resizing operation before cropping to the max. 125% of its original resolution, instead of 1250% as done in SimCLR. This is because, for classification, the model needs to recognize the full object, while in contrastive learning, we only want to check whether two patches belong to the same image/object. Hence, the chosen augmentations below are overall weaker than in the contrastive learning case."
   ]
  },
  {
   "cell_type": "code",
   "execution_count": null,
   "metadata": {},
   "outputs": [],
   "source": [
    "train_transforms = transforms.Compose([transforms.RandomHorizontalFlip(),\n",
    "                                       transforms.RandomResizedCrop(size=32, scale=(0.8, 1.0)),\n",
    "                                       transforms.RandomGrayscale(p=0.2),\n",
    "                                       transforms.GaussianBlur(kernel_size=3, sigma=(0.1, 0.5)),\n",
    "                                       transforms.ToTensor(),\n",
    "                                       transforms.Normalize((0.5,), (0.5,))\n",
    "                                       ])\n",
    "\n",
    "train_img_aug_data = STL10(root=DATASET_PATH, split='train', download=True,\n",
    "                           transform=train_transforms)\n",
    "downscale_dataset(train_img_aug_data)"
   ]
  },
  {
   "cell_type": "markdown",
   "metadata": {},
   "source": [
    "The training function for the BaseNetwork is almost identical to the Logistic Regression setup. Note that we allow the BaseNetwork to perform validation every 2 epochs to also check whether the model overfits strongly in the first iterations or not."
   ]
  },
  {
   "cell_type": "code",
   "execution_count": null,
   "metadata": {},
   "outputs": [],
   "source": [
    "def train_baseline(batch_size, max_epochs=100, **kwargs):\n",
    "    trainer = pl.Trainer(\n",
    "        default_root_dir=os.path.join(CHECKPOINT_PATH, \"ResNet\"),\n",
    "        accelerator=\"gpu\" if str(device).startswith(\"cuda\") else \"cpu\",\n",
    "        devices=1,\n",
    "        max_epochs=max_epochs,\n",
    "        callbacks=[\n",
    "            ModelCheckpoint(save_weights_only=True, mode=\"max\", monitor=\"val_acc\"),\n",
    "            LearningRateMonitor(\"epoch\"),\n",
    "        ],\n",
    "        enable_progress_bar=False,\n",
    "        check_val_every_n_epoch=2,\n",
    "    )\n",
    "    trainer.logger._default_hp_metric = None\n",
    "\n",
    "    # Data loaders\n",
    "    train_loader = data.DataLoader(train_img_aug_data, batch_size=batch_size, shuffle=True, \n",
    "                                   drop_last=True, pin_memory=True, num_workers=NUM_WORKERS)\n",
    "    test_loader = data.DataLoader(test_img_data, batch_size=batch_size, shuffle=False, \n",
    "                                  drop_last=False, pin_memory=True, num_workers=NUM_WORKERS)\n",
    "\n",
    "    # Check whether pretrained model exists. If yes, load it and skip training\n",
    "    pretrained_filename = os.path.join(CHECKPOINT_PATH, \"ResNet.ckpt\")\n",
    "    if os.path.isfile(pretrained_filename):\n",
    "        print(\"Found pretrained model at %s, loading...\" % pretrained_filename)\n",
    "        model = Baseline.load_from_checkpoint(pretrained_filename)\n",
    "    else:\n",
    "        pl.seed_everything(42) # To be reproducable\n",
    "        model = Baseline(**kwargs)\n",
    "        trainer.fit(model, train_loader, test_loader)\n",
    "        model = Baseline.load_from_checkpoint(trainer.checkpoint_callback.best_model_path)\n",
    "\n",
    "    # Test best model on validation set\n",
    "    train_result = trainer.test(model, train_loader, verbose=False)\n",
    "    val_result = trainer.test(model, test_loader, verbose=False)\n",
    "    result = {\"train\": train_result[0][\"test_acc\"], \"test\": val_result[0][\"test_acc\"]}\n",
    "\n",
    "    return model, result"
   ]
  },
  {
   "cell_type": "markdown",
   "metadata": {},
   "source": [
    "Finally, let's train the model and check its results. For a first run, use 10 epochs, but to obtain final results, try to train the model on more epochs."
   ]
  },
  {
   "cell_type": "code",
   "execution_count": null,
   "metadata": {
    "scrolled": true
   },
   "outputs": [],
   "source": [
    "baseline_model, baseline_result = train_baseline(batch_size=64,\n",
    "                                               num_classes=10,\n",
    "                                               lr=1e-3,\n",
    "                                               weight_decay=2e-4,\n",
    "                                               max_epochs=10)"
   ]
  },
  {
   "cell_type": "code",
   "execution_count": null,
   "metadata": {},
   "outputs": [],
   "source": [
    "print(f\"Accuracy on training set: {baseline_result['train']:.2%}\")\n",
    "print(f\"Accuracy on test set: {baseline_result['test']:.2%}\")\n",
    "\n",
    "# We should observe performance similar to \n",
    "# Accuracy on training set: 67.03%\n",
    "# Accuracy on test set: 60.29%"
   ]
  },
  {
   "cell_type": "markdown",
   "metadata": {},
   "source": [
    "TODO: [5 POINTS] Discuss the results you have obtained from this baseline and compare it to the logistic regression model in Part 2. What do you see? What do the results imply?"
   ]
  },
  {
   "cell_type": "markdown",
   "metadata": {},
   "source": []
  },
  {
   "cell_type": "markdown",
   "metadata": {},
   "source": [
    "## Summary of SimCLR\n",
    "\n",
    "We have discussed self-supervised contrastive learning and implemented SimCLR as an example method. We have applied it to the STL10 dataset and showed that it can learn generalizable representations that we can use to train simple classification models. Besides the discussed hyperparameters, the size of the model seems to be important in contrastive learning as well. If a lot of unlabeled data is available, larger models can achieve much stronger results and come close to their supervised baselines. Further, there are also approaches for combining contrastive and supervised learning, leading to performance gains beyond supervision (see [Khosla et al.](https://arxiv.org/abs/2004.11362)). \n"
   ]
  },
  {
   "cell_type": "markdown",
   "metadata": {},
   "source": [
    "# Explore Another SSL Method\n",
    "\n",
    "Moreover, contrastive learning is not the only approach to self-supervised learning that has come up in the last two years and showed great results. Other methods include distillation-based methods like [BYOL](https://arxiv.org/abs/2006.07733), [SimSiam](https://arxiv.org/abs/2011.10566) and redundancy reduction techniques like [Barlow Twins](https://arxiv.org/abs/2103.03230). There is a lot more to explore in the self-supervised domain as briefly discssed in our lecture.\n",
    "\n",
    "\n",
    "Implement `BYOL` or `SimSiam` or `BarlowTwins` to replace the SimCLR in Part 1 above, and re-do the experiments in Part 1 and Part 2.  With your new SSL method, compare with SimCLR and the baseline in Part 3. "
   ]
  },
  {
   "cell_type": "code",
   "execution_count": null,
   "metadata": {},
   "outputs": [],
   "source": [
    "# Modify the interface as you see fit \n",
    "\n",
    "class AnotherSSL(pl.LightningModule):\n",
    "\n",
    "    def __init__(self, hidden_dim, lr, temperature, weight_decay, max_epochs=500):\n",
    "        super().__init__()\n",
    "        self.save_hyperparameters()\n",
    "        assert (\n",
    "            self.hparams.temperature > 0.0\n",
    "        ), \"The temperature must be a positive float!\"\n",
    "        # TODO: Setup the Base Network [5 POINTS]\n",
    "        raise NotImplementedError\n",
    "\n",
    "        \n",
    "\n",
    "    def configure_optimizers(self):\n",
    "        optimizer = optim.AdamW(\n",
    "            self.parameters(),\n",
    "            lr=self.hparams.lr,\n",
    "            weight_decay=self.hparams.weight_decay,\n",
    "        )\n",
    "        lr_scheduler = optim.lr_scheduler.CosineAnnealingLR(\n",
    "            optimizer, T_max=self.hparams.max_epochs, eta_min=self.hparams.lr / 50\n",
    "        )\n",
    "        return [optimizer], [lr_scheduler]\n",
    "\n",
    "    def compute_the_loss(self, batch, mode=\"train\"):\n",
    "        imgs, _ = batch  # we do not need the labels here\n",
    "        # imgs is a list of length 2, where imgs[0][i] and imgs[1][i] are the positive pairs\n",
    "\n",
    "        # TODO: Calculate the contrastive loss of SimCLR. Try to be as efficient as possible [20 POINTS]\n",
    "        \n",
    "\n",
    "        return loss\n",
    "\n",
    "    def training_step(self, batch, batch_idx):\n",
    "        return self.info_nce_loss(batch, mode=\"train\")\n",
    "\n",
    "    def validation_step(self, batch, batch_idx):\n",
    "        self.info_nce_loss(batch, mode=\"val\")"
   ]
  },
  {
   "cell_type": "code",
   "execution_count": null,
   "metadata": {},
   "outputs": [],
   "source": [
    "# TODO: re-do experiments in Part 2 and Part 2 using your new Another SSL [5 POINTS]\n",
    "raise NotImplementedError"
   ]
  },
  {
   "cell_type": "markdown",
   "metadata": {},
   "source": [
    "# References\n",
    "\n",
    "[1] Chen, T., Kornblith, S., Norouzi, M., and Hinton, G. (2020). A simple framework for contrastive learning of visual representations. In International conference on machine learning (pp. 1597-1607). PMLR. ([link](https://arxiv.org/abs/2002.05709))\n",
    "\n",
    "[2] Chen, T., Kornblith, S., Swersky, K., Norouzi, M., and Hinton, G. (2020). Big self-supervised models are strong semi-supervised learners. NeurIPS 2021 ([link](https://arxiv.org/abs/2006.10029)).\n",
    "\n",
    "[3] Oord, A. V. D., Li, Y., and Vinyals, O. (2018). Representation learning with contrastive predictive coding. arXiv preprint arXiv:1807.03748. ([link](https://arxiv.org/abs/1807.03748))\n",
    "\n",
    "[4] Grill, J.B., Strub, F., Altché, F., Tallec, C., Richemond, P.H., Buchatskaya, E., Doersch, C., Pires, B.A., Guo, Z.D., Azar, M.G. and Piot, B. (2020). Bootstrap your own latent: A new approach to self-supervised learning. arXiv preprint arXiv:2006.07733. ([link](https://arxiv.org/abs/2006.07733))\n",
    "\n",
    "[5] Khosla, P., Teterwak, P., Wang, C., Sarna, A., Tian, Y., Isola, P., Maschinot, A., Liu, C. and Krishnan, D. (2020). Supervised contrastive learning. arXiv preprint arXiv:2004.11362. ([link](https://arxiv.org/abs/2004.11362))\n",
    "\n",
    "[6] Zbontar, J., Jing, L., Misra, I., LeCun, Y. and Deny, S. (2021). Barlow twins: Self-supervised learning via redundancy reduction. arXiv preprint arXiv:2103.03230. ([link](https://arxiv.org/abs/2103.03230))"
   ]
  }
 ],
 "metadata": {
  "kernelspec": {
   "display_name": "Python 3 (ipykernel)",
   "language": "python",
   "name": "python3"
  },
  "language_info": {
   "codemirror_mode": {
    "name": "ipython",
    "version": 3
   },
   "file_extension": ".py",
   "mimetype": "text/x-python",
   "name": "python",
   "nbconvert_exporter": "python",
   "pygments_lexer": "ipython3",
   "version": "3.11.7"
  }
 },
 "nbformat": 4,
 "nbformat_minor": 4
}
